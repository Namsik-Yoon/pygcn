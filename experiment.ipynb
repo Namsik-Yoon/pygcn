{
  "nbformat": 4,
  "nbformat_minor": 0,
  "metadata": {
    "colab": {
      "name": "Untitled24.ipynb",
      "provenance": [],
      "collapsed_sections": [],
      "machine_shape": "hm",
      "authorship_tag": "ABX9TyMZdvDnGTuTU4oHBTWjSkvy",
      "include_colab_link": true
    },
    "kernelspec": {
      "name": "python3",
      "display_name": "Python 3"
    },
    "language_info": {
      "name": "python"
    },
    "accelerator": "GPU"
  },
  "cells": [
    {
      "cell_type": "markdown",
      "metadata": {
        "id": "view-in-github",
        "colab_type": "text"
      },
      "source": [
        "<a href=\"https://colab.research.google.com/github/Namsik-Yoon/pygcn/blob/master/experiment.ipynb\" target=\"_parent\"><img src=\"https://colab.research.google.com/assets/colab-badge.svg\" alt=\"Open In Colab\"/></a>"
      ]
    },
    {
      "cell_type": "code",
      "metadata": {
        "colab": {
          "base_uri": "https://localhost:8080/"
        },
        "id": "fPxrz-tf3HGK",
        "outputId": "a21464c9-3b15-4084-f9d7-97826db653e7"
      },
      "source": [
        "!git clone https://github.com/Namsik-Yoon/pygcn.git"
      ],
      "execution_count": 1,
      "outputs": [
        {
          "output_type": "stream",
          "text": [
            "Cloning into 'pygcn'...\n",
            "remote: Enumerating objects: 78, done.\u001b[K\n",
            "remote: Total 78 (delta 0), reused 0 (delta 0), pack-reused 78\u001b[K\n",
            "Unpacking objects: 100% (78/78), done.\n"
          ],
          "name": "stdout"
        }
      ]
    },
    {
      "cell_type": "code",
      "metadata": {
        "id": "puFuZMKk7UW4"
      },
      "source": [
        "import os\n",
        "import sys\n",
        "os.chdir('/content/pygcn')\n",
        "sys.path.insert(1, '/content/pygcn')"
      ],
      "execution_count": 1,
      "outputs": []
    },
    {
      "cell_type": "code",
      "metadata": {
        "colab": {
          "base_uri": "https://localhost:8080/"
        },
        "id": "TNlNUkSl3J_-",
        "outputId": "b1f1c5ae-96b0-464f-d479-7670683c05f2"
      },
      "source": [
        "!python setup.py install"
      ],
      "execution_count": 2,
      "outputs": [
        {
          "output_type": "stream",
          "text": [
            "running install\n",
            "running bdist_egg\n",
            "running egg_info\n",
            "writing pygcn.egg-info/PKG-INFO\n",
            "writing dependency_links to pygcn.egg-info/dependency_links.txt\n",
            "writing requirements to pygcn.egg-info/requires.txt\n",
            "writing top-level names to pygcn.egg-info/top_level.txt\n",
            "adding license file 'LICENCE'\n",
            "writing manifest file 'pygcn.egg-info/SOURCES.txt'\n",
            "installing library code to build/bdist.linux-x86_64/egg\n",
            "running install_lib\n",
            "running build_py\n",
            "copying pygcn/utils.py -> build/lib/pygcn\n",
            "creating build/bdist.linux-x86_64/egg\n",
            "creating build/bdist.linux-x86_64/egg/pygcn\n",
            "copying build/lib/pygcn/__init__.py -> build/bdist.linux-x86_64/egg/pygcn\n",
            "copying build/lib/pygcn/utils.py -> build/bdist.linux-x86_64/egg/pygcn\n",
            "copying build/lib/pygcn/train.py -> build/bdist.linux-x86_64/egg/pygcn\n",
            "copying build/lib/pygcn/layers.py -> build/bdist.linux-x86_64/egg/pygcn\n",
            "copying build/lib/pygcn/models.py -> build/bdist.linux-x86_64/egg/pygcn\n",
            "byte-compiling build/bdist.linux-x86_64/egg/pygcn/__init__.py to __init__.cpython-37.pyc\n",
            "byte-compiling build/bdist.linux-x86_64/egg/pygcn/utils.py to utils.cpython-37.pyc\n",
            "byte-compiling build/bdist.linux-x86_64/egg/pygcn/train.py to train.cpython-37.pyc\n",
            "byte-compiling build/bdist.linux-x86_64/egg/pygcn/layers.py to layers.cpython-37.pyc\n",
            "byte-compiling build/bdist.linux-x86_64/egg/pygcn/models.py to models.cpython-37.pyc\n",
            "creating build/bdist.linux-x86_64/egg/EGG-INFO\n",
            "copying pygcn.egg-info/PKG-INFO -> build/bdist.linux-x86_64/egg/EGG-INFO\n",
            "copying pygcn.egg-info/SOURCES.txt -> build/bdist.linux-x86_64/egg/EGG-INFO\n",
            "copying pygcn.egg-info/dependency_links.txt -> build/bdist.linux-x86_64/egg/EGG-INFO\n",
            "copying pygcn.egg-info/requires.txt -> build/bdist.linux-x86_64/egg/EGG-INFO\n",
            "copying pygcn.egg-info/top_level.txt -> build/bdist.linux-x86_64/egg/EGG-INFO\n",
            "zip_safe flag not set; analyzing archive contents...\n",
            "creating 'dist/pygcn-0.1-py3.7.egg' and adding 'build/bdist.linux-x86_64/egg' to it\n",
            "removing 'build/bdist.linux-x86_64/egg' (and everything under it)\n",
            "Processing pygcn-0.1-py3.7.egg\n",
            "Removing /usr/local/lib/python3.7/dist-packages/pygcn-0.1-py3.7.egg\n",
            "Copying pygcn-0.1-py3.7.egg to /usr/local/lib/python3.7/dist-packages\n",
            "pygcn 0.1 is already the active version in easy-install.pth\n",
            "\n",
            "Installed /usr/local/lib/python3.7/dist-packages/pygcn-0.1-py3.7.egg\n",
            "Processing dependencies for pygcn==0.1\n",
            "Searching for scipy==1.4.1\n",
            "Best match: scipy 1.4.1\n",
            "Adding scipy 1.4.1 to easy-install.pth file\n",
            "\n",
            "Using /usr/local/lib/python3.7/dist-packages\n",
            "Searching for torch==1.9.0+cu102\n",
            "Best match: torch 1.9.0+cu102\n",
            "Adding torch 1.9.0+cu102 to easy-install.pth file\n",
            "Installing convert-caffe2-to-onnx script to /usr/local/bin\n",
            "Installing convert-onnx-to-caffe2 script to /usr/local/bin\n",
            "\n",
            "Using /usr/local/lib/python3.7/dist-packages\n",
            "Searching for numpy==1.19.5\n",
            "Best match: numpy 1.19.5\n",
            "Adding numpy 1.19.5 to easy-install.pth file\n",
            "Installing f2py script to /usr/local/bin\n",
            "Installing f2py3 script to /usr/local/bin\n",
            "Installing f2py3.7 script to /usr/local/bin\n",
            "\n",
            "Using /usr/local/lib/python3.7/dist-packages\n",
            "Searching for typing-extensions==3.7.4.3\n",
            "Best match: typing-extensions 3.7.4.3\n",
            "Adding typing-extensions 3.7.4.3 to easy-install.pth file\n",
            "\n",
            "Using /usr/local/lib/python3.7/dist-packages\n",
            "Finished processing dependencies for pygcn==0.1\n"
          ],
          "name": "stdout"
        }
      ]
    },
    {
      "cell_type": "code",
      "metadata": {
        "id": "Yzs3hmLB9bCI"
      },
      "source": [
        "from pygcn import utils\n",
        "A, features, labels, idx_train, idx_val, idx_test = utils.load_data()"
      ],
      "execution_count": null,
      "outputs": []
    },
    {
      "cell_type": "code",
      "metadata": {
        "id": "Tu08SyhF92QS"
      },
      "source": [
        "A, features, labels, idx_train, idx_val, idx_test = "
      ],
      "execution_count": null,
      "outputs": []
    },
    {
      "cell_type": "code",
      "metadata": {
        "id": "dfYkpm5F92SZ"
      },
      "source": [
        "import numpy as np\n",
        "import scipy.sparse as sp\n",
        "import torch"
      ],
      "execution_count": 15,
      "outputs": []
    },
    {
      "cell_type": "code",
      "metadata": {
        "id": "lfBhoSzwAA8d"
      },
      "source": [
        "def encode_onehot(labels):\n",
        "    classes = set(labels)\n",
        "    classes_dict = {c: np.identity(len(classes))[i, :] for i, c in\n",
        "                    enumerate(classes)}\n",
        "    labels_onehot = np.array(list(map(classes_dict.get, labels)),\n",
        "                             dtype=np.int32)\n",
        "    return labels_onehot"
      ],
      "execution_count": 22,
      "outputs": []
    },
    {
      "cell_type": "code",
      "metadata": {
        "id": "Y8XtDHs_92Ug"
      },
      "source": [
        "path=\"/content/pygcn/data/cora/\"\n",
        "dataset=\"cora\""
      ],
      "execution_count": 32,
      "outputs": []
    },
    {
      "cell_type": "code",
      "metadata": {
        "colab": {
          "base_uri": "https://localhost:8080/"
        },
        "id": "xOLez-PeA4uj",
        "outputId": "4fd6456b-863f-448d-b531-c880b7d56dba"
      },
      "source": [
        "## content 데이터 \n",
        "## [논문의 아이디,각 논문의 feature, 논문의 장르]\n",
        "idx_features_labels = np.genfromtxt(\"{}{}.content\".format(path, dataset),\n",
        "                                        dtype=np.dtype(str))\n",
        "idx_features_labels"
      ],
      "execution_count": 31,
      "outputs": [
        {
          "output_type": "execute_result",
          "data": {
            "text/plain": [
              "array([['31336', '0', '0', ..., '0', '0', 'Neural_Networks'],\n",
              "       ['1061127', '0', '0', ..., '0', '0', 'Rule_Learning'],\n",
              "       ['1106406', '0', '0', ..., '0', '0', 'Reinforcement_Learning'],\n",
              "       ...,\n",
              "       ['1128978', '0', '0', ..., '0', '0', 'Genetic_Algorithms'],\n",
              "       ['117328', '0', '0', ..., '0', '0', 'Case_Based'],\n",
              "       ['24043', '0', '0', ..., '0', '0', 'Neural_Networks']],\n",
              "      dtype='<U22')"
            ]
          },
          "metadata": {
            "tags": []
          },
          "execution_count": 31
        }
      ]
    },
    {
      "cell_type": "code",
      "metadata": {
        "id": "jXutsacB92Wb"
      },
      "source": [
        "## 각 논문의 feature\n",
        "features = sp.csr_matrix(idx_features_labels[:, 1:-1], dtype=np.float32)\n",
        "## 논문의 장르(onehot)\n",
        "labels = encode_onehot(idx_features_labels[:, -1])"
      ],
      "execution_count": 24,
      "outputs": []
    },
    {
      "cell_type": "code",
      "metadata": {
        "id": "ksOmyezT92Y5"
      },
      "source": [
        "idx = np.array(idx_features_labels[:, 0], dtype=np.int32)\n",
        "idx_map = {j: i for i, j in enumerate(idx)} ## 논문 id 맵핑 dict"
      ],
      "execution_count": 25,
      "outputs": []
    },
    {
      "cell_type": "code",
      "metadata": {
        "id": "uhdt1cIU92as"
      },
      "source": [
        "## cite 데이터\n",
        "## [참조된 논문, 참조한 논문]\n",
        "edges_unordered = np.genfromtxt(\"{}{}.cites\".format(path, dataset),\n",
        "                                dtype=np.int32)\n",
        "edges = np.array(list(map(idx_map.get, edges_unordered.flatten())),\n",
        "                    dtype=np.int32).reshape(edges_unordered.shape)\n",
        "\n",
        "## cite 데이터로 adj matrix 생성\n",
        "adj = sp.coo_matrix((np.ones(edges.shape[0]), (edges[:, 0], edges[:, 1])),\n",
        "                    shape=(labels.shape[0], labels.shape[0]),\n",
        "                    dtype=np.float32)"
      ],
      "execution_count": 27,
      "outputs": []
    },
    {
      "cell_type": "code",
      "metadata": {
        "id": "39WR2p7d92i6"
      },
      "source": [
        ""
      ],
      "execution_count": 30,
      "outputs": []
    },
    {
      "cell_type": "code",
      "metadata": {
        "id": "WXq2VzIPAs83"
      },
      "source": [
        ""
      ],
      "execution_count": null,
      "outputs": []
    },
    {
      "cell_type": "code",
      "metadata": {
        "id": "VJLlCOAHAtxi"
      },
      "source": [
        ""
      ],
      "execution_count": null,
      "outputs": []
    },
    {
      "cell_type": "code",
      "metadata": {
        "id": "m_8WT_mWAtzd"
      },
      "source": [
        ""
      ],
      "execution_count": null,
      "outputs": []
    },
    {
      "cell_type": "code",
      "metadata": {
        "id": "EvGcJNerAt1W"
      },
      "source": [
        ""
      ],
      "execution_count": null,
      "outputs": []
    },
    {
      "cell_type": "code",
      "metadata": {
        "id": "NpQXwdK1At3R"
      },
      "source": [
        ""
      ],
      "execution_count": null,
      "outputs": []
    },
    {
      "cell_type": "code",
      "metadata": {
        "id": "A44b-hWtAt5N"
      },
      "source": [
        ""
      ],
      "execution_count": null,
      "outputs": []
    },
    {
      "cell_type": "code",
      "metadata": {
        "id": "asJY-NVdAt7J"
      },
      "source": [
        ""
      ],
      "execution_count": null,
      "outputs": []
    },
    {
      "cell_type": "code",
      "metadata": {
        "id": "qLn5ug_YAt9Q"
      },
      "source": [
        ""
      ],
      "execution_count": null,
      "outputs": []
    },
    {
      "cell_type": "code",
      "metadata": {
        "id": "PwkWW7h7At_Y"
      },
      "source": [
        ""
      ],
      "execution_count": null,
      "outputs": []
    },
    {
      "cell_type": "code",
      "metadata": {
        "id": "z-z1gCCxAuBi"
      },
      "source": [
        ""
      ],
      "execution_count": null,
      "outputs": []
    },
    {
      "cell_type": "code",
      "metadata": {
        "id": "2UKgrtQpAr9w"
      },
      "source": [
        ""
      ],
      "execution_count": null,
      "outputs": []
    },
    {
      "cell_type": "code",
      "metadata": {
        "colab": {
          "base_uri": "https://localhost:8080/"
        },
        "id": "bty2mtzg4hqM",
        "outputId": "c8b59030-8116-4c9d-f84a-1da4f70237cd"
      },
      "source": [
        "!python pygcn/train.py"
      ],
      "execution_count": 3,
      "outputs": [
        {
          "output_type": "stream",
          "text": [
            "Loading cora dataset...\n",
            "Epoch: 0001 loss_train: 1.9501 acc_train: 0.1786 loss_val: 1.9554 acc_val: 0.1567 time: 0.1050s\n",
            "Epoch: 0002 loss_train: 1.9412 acc_train: 0.1929 loss_val: 1.9434 acc_val: 0.1567 time: 0.0043s\n",
            "Epoch: 0003 loss_train: 1.9313 acc_train: 0.2000 loss_val: 1.9323 acc_val: 0.1567 time: 0.0044s\n",
            "Epoch: 0004 loss_train: 1.9215 acc_train: 0.2000 loss_val: 1.9215 acc_val: 0.1567 time: 0.0039s\n",
            "Epoch: 0005 loss_train: 1.9114 acc_train: 0.2000 loss_val: 1.9107 acc_val: 0.1567 time: 0.0040s\n",
            "Epoch: 0006 loss_train: 1.8936 acc_train: 0.2000 loss_val: 1.9002 acc_val: 0.1567 time: 0.0041s\n",
            "Epoch: 0007 loss_train: 1.8798 acc_train: 0.2000 loss_val: 1.8900 acc_val: 0.1567 time: 0.0040s\n",
            "Epoch: 0008 loss_train: 1.8711 acc_train: 0.2000 loss_val: 1.8802 acc_val: 0.1567 time: 0.0041s\n",
            "Epoch: 0009 loss_train: 1.8652 acc_train: 0.2143 loss_val: 1.8706 acc_val: 0.1567 time: 0.0040s\n",
            "Epoch: 0010 loss_train: 1.8626 acc_train: 0.2000 loss_val: 1.8611 acc_val: 0.1567 time: 0.0041s\n",
            "Epoch: 0011 loss_train: 1.8514 acc_train: 0.2143 loss_val: 1.8517 acc_val: 0.1567 time: 0.0039s\n",
            "Epoch: 0012 loss_train: 1.8331 acc_train: 0.2714 loss_val: 1.8423 acc_val: 0.1567 time: 0.0040s\n",
            "Epoch: 0013 loss_train: 1.8359 acc_train: 0.2357 loss_val: 1.8331 acc_val: 0.1733 time: 0.0042s\n",
            "Epoch: 0014 loss_train: 1.8186 acc_train: 0.2857 loss_val: 1.8240 acc_val: 0.3267 time: 0.0040s\n",
            "Epoch: 0015 loss_train: 1.8175 acc_train: 0.2786 loss_val: 1.8148 acc_val: 0.4433 time: 0.0041s\n",
            "Epoch: 0016 loss_train: 1.8248 acc_train: 0.3286 loss_val: 1.8059 acc_val: 0.4567 time: 0.0040s\n",
            "Epoch: 0017 loss_train: 1.8052 acc_train: 0.3929 loss_val: 1.7971 acc_val: 0.4033 time: 0.0039s\n",
            "Epoch: 0018 loss_train: 1.7763 acc_train: 0.3929 loss_val: 1.7882 acc_val: 0.3700 time: 0.0041s\n",
            "Epoch: 0019 loss_train: 1.7688 acc_train: 0.3714 loss_val: 1.7794 acc_val: 0.3633 time: 0.0040s\n",
            "Epoch: 0020 loss_train: 1.7682 acc_train: 0.3643 loss_val: 1.7706 acc_val: 0.3533 time: 0.0041s\n",
            "Epoch: 0021 loss_train: 1.7495 acc_train: 0.3500 loss_val: 1.7617 acc_val: 0.3500 time: 0.0039s\n",
            "Epoch: 0022 loss_train: 1.7606 acc_train: 0.3357 loss_val: 1.7530 acc_val: 0.3500 time: 0.0039s\n",
            "Epoch: 0023 loss_train: 1.7516 acc_train: 0.2929 loss_val: 1.7446 acc_val: 0.3500 time: 0.0041s\n",
            "Epoch: 0024 loss_train: 1.7247 acc_train: 0.3143 loss_val: 1.7368 acc_val: 0.3500 time: 0.0040s\n",
            "Epoch: 0025 loss_train: 1.7349 acc_train: 0.3214 loss_val: 1.7296 acc_val: 0.3500 time: 0.0041s\n",
            "Epoch: 0026 loss_train: 1.6917 acc_train: 0.3571 loss_val: 1.7222 acc_val: 0.3500 time: 0.0039s\n",
            "Epoch: 0027 loss_train: 1.7069 acc_train: 0.3000 loss_val: 1.7147 acc_val: 0.3500 time: 0.0039s\n",
            "Epoch: 0028 loss_train: 1.7083 acc_train: 0.3143 loss_val: 1.7071 acc_val: 0.3500 time: 0.0041s\n",
            "Epoch: 0029 loss_train: 1.6755 acc_train: 0.3143 loss_val: 1.6995 acc_val: 0.3500 time: 0.0040s\n",
            "Epoch: 0030 loss_train: 1.6696 acc_train: 0.3071 loss_val: 1.6920 acc_val: 0.3500 time: 0.0040s\n",
            "Epoch: 0031 loss_train: 1.6865 acc_train: 0.3286 loss_val: 1.6845 acc_val: 0.3500 time: 0.0039s\n",
            "Epoch: 0032 loss_train: 1.6424 acc_train: 0.3857 loss_val: 1.6769 acc_val: 0.3500 time: 0.0039s\n",
            "Epoch: 0033 loss_train: 1.6754 acc_train: 0.3714 loss_val: 1.6691 acc_val: 0.3567 time: 0.0040s\n",
            "Epoch: 0034 loss_train: 1.6561 acc_train: 0.3857 loss_val: 1.6610 acc_val: 0.3600 time: 0.0039s\n",
            "Epoch: 0035 loss_train: 1.6065 acc_train: 0.3857 loss_val: 1.6524 acc_val: 0.3600 time: 0.0040s\n",
            "Epoch: 0036 loss_train: 1.6661 acc_train: 0.3857 loss_val: 1.6437 acc_val: 0.3667 time: 0.0039s\n",
            "Epoch: 0037 loss_train: 1.6069 acc_train: 0.4000 loss_val: 1.6346 acc_val: 0.3700 time: 0.0038s\n",
            "Epoch: 0038 loss_train: 1.6041 acc_train: 0.4143 loss_val: 1.6252 acc_val: 0.3700 time: 0.0040s\n",
            "Epoch: 0039 loss_train: 1.5747 acc_train: 0.4071 loss_val: 1.6154 acc_val: 0.3900 time: 0.0039s\n",
            "Epoch: 0040 loss_train: 1.5645 acc_train: 0.4571 loss_val: 1.6053 acc_val: 0.4100 time: 0.0040s\n",
            "Epoch: 0041 loss_train: 1.5225 acc_train: 0.4643 loss_val: 1.5946 acc_val: 0.4333 time: 0.0038s\n",
            "Epoch: 0042 loss_train: 1.4972 acc_train: 0.4857 loss_val: 1.5832 acc_val: 0.4600 time: 0.0038s\n",
            "Epoch: 0043 loss_train: 1.5145 acc_train: 0.5000 loss_val: 1.5714 acc_val: 0.4767 time: 0.0040s\n",
            "Epoch: 0044 loss_train: 1.4823 acc_train: 0.5286 loss_val: 1.5591 acc_val: 0.4867 time: 0.0039s\n",
            "Epoch: 0045 loss_train: 1.4563 acc_train: 0.5714 loss_val: 1.5462 acc_val: 0.4967 time: 0.0039s\n",
            "Epoch: 0046 loss_train: 1.4703 acc_train: 0.5643 loss_val: 1.5330 acc_val: 0.5100 time: 0.0040s\n",
            "Epoch: 0047 loss_train: 1.4301 acc_train: 0.5643 loss_val: 1.5192 acc_val: 0.5400 time: 0.0038s\n",
            "Epoch: 0048 loss_train: 1.3916 acc_train: 0.5714 loss_val: 1.5051 acc_val: 0.5500 time: 0.0040s\n",
            "Epoch: 0049 loss_train: 1.3893 acc_train: 0.5929 loss_val: 1.4906 acc_val: 0.5567 time: 0.0038s\n",
            "Epoch: 0050 loss_train: 1.3726 acc_train: 0.6071 loss_val: 1.4756 acc_val: 0.5567 time: 0.0040s\n",
            "Epoch: 0051 loss_train: 1.3687 acc_train: 0.5357 loss_val: 1.4604 acc_val: 0.5767 time: 0.0038s\n",
            "Epoch: 0052 loss_train: 1.3647 acc_train: 0.5857 loss_val: 1.4453 acc_val: 0.5800 time: 0.0039s\n",
            "Epoch: 0053 loss_train: 1.2795 acc_train: 0.6214 loss_val: 1.4304 acc_val: 0.5900 time: 0.0043s\n",
            "Epoch: 0054 loss_train: 1.2728 acc_train: 0.6857 loss_val: 1.4152 acc_val: 0.6000 time: 0.0044s\n",
            "Epoch: 0055 loss_train: 1.2732 acc_train: 0.6714 loss_val: 1.4001 acc_val: 0.6033 time: 0.0040s\n",
            "Epoch: 0056 loss_train: 1.2072 acc_train: 0.7071 loss_val: 1.3846 acc_val: 0.6133 time: 0.0039s\n",
            "Epoch: 0057 loss_train: 1.2265 acc_train: 0.6286 loss_val: 1.3688 acc_val: 0.6200 time: 0.0038s\n",
            "Epoch: 0058 loss_train: 1.2207 acc_train: 0.6929 loss_val: 1.3529 acc_val: 0.6300 time: 0.0039s\n",
            "Epoch: 0059 loss_train: 1.1841 acc_train: 0.6786 loss_val: 1.3370 acc_val: 0.6467 time: 0.0039s\n",
            "Epoch: 0060 loss_train: 1.1803 acc_train: 0.6857 loss_val: 1.3212 acc_val: 0.6600 time: 0.0040s\n",
            "Epoch: 0061 loss_train: 1.1912 acc_train: 0.6857 loss_val: 1.3056 acc_val: 0.6733 time: 0.0038s\n",
            "Epoch: 0062 loss_train: 1.1734 acc_train: 0.7143 loss_val: 1.2903 acc_val: 0.6867 time: 0.0040s\n",
            "Epoch: 0063 loss_train: 1.1491 acc_train: 0.7286 loss_val: 1.2753 acc_val: 0.7000 time: 0.0040s\n",
            "Epoch: 0064 loss_train: 1.1353 acc_train: 0.7500 loss_val: 1.2604 acc_val: 0.7100 time: 0.0038s\n",
            "Epoch: 0065 loss_train: 1.0757 acc_train: 0.7786 loss_val: 1.2456 acc_val: 0.7233 time: 0.0040s\n",
            "Epoch: 0066 loss_train: 1.0893 acc_train: 0.7500 loss_val: 1.2307 acc_val: 0.7300 time: 0.0038s\n",
            "Epoch: 0067 loss_train: 1.0420 acc_train: 0.7500 loss_val: 1.2162 acc_val: 0.7300 time: 0.0037s\n",
            "Epoch: 0068 loss_train: 1.0626 acc_train: 0.7286 loss_val: 1.2020 acc_val: 0.7400 time: 0.0039s\n",
            "Epoch: 0069 loss_train: 1.0023 acc_train: 0.7929 loss_val: 1.1880 acc_val: 0.7400 time: 0.0038s\n",
            "Epoch: 0070 loss_train: 0.9825 acc_train: 0.8000 loss_val: 1.1748 acc_val: 0.7400 time: 0.0039s\n",
            "Epoch: 0071 loss_train: 0.9819 acc_train: 0.7714 loss_val: 1.1619 acc_val: 0.7500 time: 0.0038s\n",
            "Epoch: 0072 loss_train: 0.9811 acc_train: 0.8143 loss_val: 1.1490 acc_val: 0.7533 time: 0.0038s\n",
            "Epoch: 0073 loss_train: 0.9466 acc_train: 0.8214 loss_val: 1.1367 acc_val: 0.7533 time: 0.0039s\n",
            "Epoch: 0074 loss_train: 0.9664 acc_train: 0.8143 loss_val: 1.1249 acc_val: 0.7567 time: 0.0038s\n",
            "Epoch: 0075 loss_train: 0.9277 acc_train: 0.7929 loss_val: 1.1134 acc_val: 0.7633 time: 0.0038s\n",
            "Epoch: 0076 loss_train: 0.9404 acc_train: 0.7571 loss_val: 1.1014 acc_val: 0.7633 time: 0.0039s\n",
            "Epoch: 0077 loss_train: 0.9026 acc_train: 0.8071 loss_val: 1.0897 acc_val: 0.7600 time: 0.0038s\n",
            "Epoch: 0078 loss_train: 0.8432 acc_train: 0.8000 loss_val: 1.0784 acc_val: 0.7700 time: 0.0040s\n",
            "Epoch: 0079 loss_train: 0.9120 acc_train: 0.8286 loss_val: 1.0672 acc_val: 0.7700 time: 0.0038s\n",
            "Epoch: 0080 loss_train: 0.8417 acc_train: 0.8214 loss_val: 1.0560 acc_val: 0.7767 time: 0.0038s\n",
            "Epoch: 0081 loss_train: 0.8423 acc_train: 0.8357 loss_val: 1.0441 acc_val: 0.7733 time: 0.0041s\n",
            "Epoch: 0082 loss_train: 0.8749 acc_train: 0.8143 loss_val: 1.0317 acc_val: 0.7900 time: 0.0038s\n",
            "Epoch: 0083 loss_train: 0.8327 acc_train: 0.8357 loss_val: 1.0202 acc_val: 0.7933 time: 0.0039s\n",
            "Epoch: 0084 loss_train: 0.8657 acc_train: 0.8071 loss_val: 1.0099 acc_val: 0.7933 time: 0.0039s\n",
            "Epoch: 0085 loss_train: 0.7780 acc_train: 0.8714 loss_val: 1.0003 acc_val: 0.7933 time: 0.0038s\n",
            "Epoch: 0086 loss_train: 0.8027 acc_train: 0.8286 loss_val: 0.9912 acc_val: 0.8000 time: 0.0040s\n",
            "Epoch: 0087 loss_train: 0.8480 acc_train: 0.8000 loss_val: 0.9835 acc_val: 0.8000 time: 0.0038s\n",
            "Epoch: 0088 loss_train: 0.7978 acc_train: 0.8286 loss_val: 0.9760 acc_val: 0.7933 time: 0.0039s\n",
            "Epoch: 0089 loss_train: 0.7731 acc_train: 0.8571 loss_val: 0.9689 acc_val: 0.8000 time: 0.0039s\n",
            "Epoch: 0090 loss_train: 0.7375 acc_train: 0.8643 loss_val: 0.9622 acc_val: 0.7900 time: 0.0043s\n",
            "Epoch: 0091 loss_train: 0.7904 acc_train: 0.8643 loss_val: 0.9552 acc_val: 0.7867 time: 0.0040s\n",
            "Epoch: 0092 loss_train: 0.7320 acc_train: 0.8857 loss_val: 0.9478 acc_val: 0.7867 time: 0.0038s\n",
            "Epoch: 0093 loss_train: 0.7244 acc_train: 0.8786 loss_val: 0.9397 acc_val: 0.7867 time: 0.0039s\n",
            "Epoch: 0094 loss_train: 0.7421 acc_train: 0.8214 loss_val: 0.9319 acc_val: 0.7900 time: 0.0038s\n",
            "Epoch: 0095 loss_train: 0.7691 acc_train: 0.8357 loss_val: 0.9241 acc_val: 0.8067 time: 0.0038s\n",
            "Epoch: 0096 loss_train: 0.6942 acc_train: 0.8857 loss_val: 0.9166 acc_val: 0.8067 time: 0.0040s\n",
            "Epoch: 0097 loss_train: 0.7002 acc_train: 0.8857 loss_val: 0.9102 acc_val: 0.8067 time: 0.0039s\n",
            "Epoch: 0098 loss_train: 0.6856 acc_train: 0.8643 loss_val: 0.9045 acc_val: 0.8033 time: 0.0039s\n",
            "Epoch: 0099 loss_train: 0.6927 acc_train: 0.8357 loss_val: 0.9000 acc_val: 0.8100 time: 0.0038s\n",
            "Epoch: 0100 loss_train: 0.6877 acc_train: 0.8500 loss_val: 0.8961 acc_val: 0.8100 time: 0.0039s\n",
            "Epoch: 0101 loss_train: 0.7207 acc_train: 0.8429 loss_val: 0.8908 acc_val: 0.7967 time: 0.0040s\n",
            "Epoch: 0102 loss_train: 0.6403 acc_train: 0.8786 loss_val: 0.8852 acc_val: 0.8000 time: 0.0040s\n",
            "Epoch: 0103 loss_train: 0.6662 acc_train: 0.8714 loss_val: 0.8794 acc_val: 0.7967 time: 0.0040s\n",
            "Epoch: 0104 loss_train: 0.6799 acc_train: 0.8571 loss_val: 0.8745 acc_val: 0.7933 time: 0.0041s\n",
            "Epoch: 0105 loss_train: 0.6821 acc_train: 0.8643 loss_val: 0.8689 acc_val: 0.7967 time: 0.0043s\n",
            "Epoch: 0106 loss_train: 0.6461 acc_train: 0.8714 loss_val: 0.8645 acc_val: 0.7967 time: 0.0040s\n",
            "Epoch: 0107 loss_train: 0.5991 acc_train: 0.8714 loss_val: 0.8599 acc_val: 0.8000 time: 0.0039s\n",
            "Epoch: 0108 loss_train: 0.6581 acc_train: 0.8714 loss_val: 0.8563 acc_val: 0.8000 time: 0.0040s\n",
            "Epoch: 0109 loss_train: 0.5819 acc_train: 0.8929 loss_val: 0.8529 acc_val: 0.8000 time: 0.0039s\n",
            "Epoch: 0110 loss_train: 0.6061 acc_train: 0.8929 loss_val: 0.8502 acc_val: 0.8033 time: 0.0039s\n",
            "Epoch: 0111 loss_train: 0.6092 acc_train: 0.9000 loss_val: 0.8462 acc_val: 0.8033 time: 0.0040s\n",
            "Epoch: 0112 loss_train: 0.5973 acc_train: 0.9000 loss_val: 0.8433 acc_val: 0.8033 time: 0.0039s\n",
            "Epoch: 0113 loss_train: 0.6282 acc_train: 0.8786 loss_val: 0.8406 acc_val: 0.8033 time: 0.0040s\n",
            "Epoch: 0114 loss_train: 0.6439 acc_train: 0.8929 loss_val: 0.8374 acc_val: 0.8033 time: 0.0039s\n",
            "Epoch: 0115 loss_train: 0.5489 acc_train: 0.9214 loss_val: 0.8332 acc_val: 0.8033 time: 0.0039s\n",
            "Epoch: 0116 loss_train: 0.5834 acc_train: 0.8929 loss_val: 0.8278 acc_val: 0.8067 time: 0.0040s\n",
            "Epoch: 0117 loss_train: 0.6003 acc_train: 0.9071 loss_val: 0.8222 acc_val: 0.8067 time: 0.0038s\n",
            "Epoch: 0118 loss_train: 0.5686 acc_train: 0.9214 loss_val: 0.8163 acc_val: 0.8067 time: 0.0040s\n",
            "Epoch: 0119 loss_train: 0.5914 acc_train: 0.9000 loss_val: 0.8105 acc_val: 0.8067 time: 0.0038s\n",
            "Epoch: 0120 loss_train: 0.6102 acc_train: 0.9000 loss_val: 0.8056 acc_val: 0.8100 time: 0.0038s\n",
            "Epoch: 0121 loss_train: 0.5789 acc_train: 0.8929 loss_val: 0.8013 acc_val: 0.8100 time: 0.0040s\n",
            "Epoch: 0122 loss_train: 0.5576 acc_train: 0.9143 loss_val: 0.7979 acc_val: 0.8067 time: 0.0039s\n",
            "Epoch: 0123 loss_train: 0.5882 acc_train: 0.9071 loss_val: 0.7946 acc_val: 0.8067 time: 0.0039s\n",
            "Epoch: 0124 loss_train: 0.5643 acc_train: 0.9071 loss_val: 0.7924 acc_val: 0.8067 time: 0.0038s\n",
            "Epoch: 0125 loss_train: 0.5325 acc_train: 0.9214 loss_val: 0.7913 acc_val: 0.8033 time: 0.0039s\n",
            "Epoch: 0126 loss_train: 0.5445 acc_train: 0.9429 loss_val: 0.7898 acc_val: 0.8033 time: 0.0039s\n",
            "Epoch: 0127 loss_train: 0.5399 acc_train: 0.9071 loss_val: 0.7881 acc_val: 0.8033 time: 0.0038s\n",
            "Epoch: 0128 loss_train: 0.5662 acc_train: 0.9214 loss_val: 0.7852 acc_val: 0.8033 time: 0.0040s\n",
            "Epoch: 0129 loss_train: 0.5614 acc_train: 0.9071 loss_val: 0.7819 acc_val: 0.8067 time: 0.0038s\n",
            "Epoch: 0130 loss_train: 0.5264 acc_train: 0.9071 loss_val: 0.7784 acc_val: 0.8033 time: 0.0039s\n",
            "Epoch: 0131 loss_train: 0.5492 acc_train: 0.9071 loss_val: 0.7747 acc_val: 0.8033 time: 0.0040s\n",
            "Epoch: 0132 loss_train: 0.5555 acc_train: 0.8929 loss_val: 0.7706 acc_val: 0.8033 time: 0.0040s\n",
            "Epoch: 0133 loss_train: 0.5427 acc_train: 0.9000 loss_val: 0.7677 acc_val: 0.8033 time: 0.0039s\n",
            "Epoch: 0134 loss_train: 0.5074 acc_train: 0.9143 loss_val: 0.7662 acc_val: 0.8033 time: 0.0038s\n",
            "Epoch: 0135 loss_train: 0.5149 acc_train: 0.9143 loss_val: 0.7643 acc_val: 0.8033 time: 0.0038s\n",
            "Epoch: 0136 loss_train: 0.5311 acc_train: 0.9357 loss_val: 0.7617 acc_val: 0.8067 time: 0.0039s\n",
            "Epoch: 0137 loss_train: 0.4903 acc_train: 0.9214 loss_val: 0.7583 acc_val: 0.8100 time: 0.0037s\n",
            "Epoch: 0138 loss_train: 0.5027 acc_train: 0.9071 loss_val: 0.7542 acc_val: 0.8033 time: 0.0039s\n",
            "Epoch: 0139 loss_train: 0.5076 acc_train: 0.9214 loss_val: 0.7501 acc_val: 0.8033 time: 0.0038s\n",
            "Epoch: 0140 loss_train: 0.5200 acc_train: 0.9071 loss_val: 0.7472 acc_val: 0.8033 time: 0.0038s\n",
            "Epoch: 0141 loss_train: 0.4813 acc_train: 0.9286 loss_val: 0.7464 acc_val: 0.8000 time: 0.0039s\n",
            "Epoch: 0142 loss_train: 0.4848 acc_train: 0.9143 loss_val: 0.7453 acc_val: 0.8033 time: 0.0038s\n",
            "Epoch: 0143 loss_train: 0.5021 acc_train: 0.9214 loss_val: 0.7449 acc_val: 0.8067 time: 0.0038s\n",
            "Epoch: 0144 loss_train: 0.5358 acc_train: 0.9357 loss_val: 0.7449 acc_val: 0.8167 time: 0.0040s\n",
            "Epoch: 0145 loss_train: 0.4831 acc_train: 0.9143 loss_val: 0.7433 acc_val: 0.8167 time: 0.0038s\n",
            "Epoch: 0146 loss_train: 0.4820 acc_train: 0.9286 loss_val: 0.7423 acc_val: 0.8133 time: 0.0039s\n",
            "Epoch: 0147 loss_train: 0.4882 acc_train: 0.9214 loss_val: 0.7402 acc_val: 0.8100 time: 0.0038s\n",
            "Epoch: 0148 loss_train: 0.4788 acc_train: 0.9071 loss_val: 0.7386 acc_val: 0.8167 time: 0.0038s\n",
            "Epoch: 0149 loss_train: 0.5055 acc_train: 0.9214 loss_val: 0.7360 acc_val: 0.8167 time: 0.0040s\n",
            "Epoch: 0150 loss_train: 0.4926 acc_train: 0.9143 loss_val: 0.7339 acc_val: 0.8133 time: 0.0038s\n",
            "Epoch: 0151 loss_train: 0.4470 acc_train: 0.9286 loss_val: 0.7305 acc_val: 0.8133 time: 0.0040s\n",
            "Epoch: 0152 loss_train: 0.4851 acc_train: 0.9143 loss_val: 0.7279 acc_val: 0.8133 time: 0.0038s\n",
            "Epoch: 0153 loss_train: 0.4841 acc_train: 0.9214 loss_val: 0.7260 acc_val: 0.8133 time: 0.0038s\n",
            "Epoch: 0154 loss_train: 0.4887 acc_train: 0.9143 loss_val: 0.7245 acc_val: 0.8200 time: 0.0040s\n",
            "Epoch: 0155 loss_train: 0.4612 acc_train: 0.9286 loss_val: 0.7223 acc_val: 0.8167 time: 0.0042s\n",
            "Epoch: 0156 loss_train: 0.4536 acc_train: 0.9214 loss_val: 0.7208 acc_val: 0.8200 time: 0.0041s\n",
            "Epoch: 0157 loss_train: 0.4526 acc_train: 0.9500 loss_val: 0.7193 acc_val: 0.8200 time: 0.0038s\n",
            "Epoch: 0158 loss_train: 0.4875 acc_train: 0.9286 loss_val: 0.7177 acc_val: 0.8167 time: 0.0038s\n",
            "Epoch: 0159 loss_train: 0.4861 acc_train: 0.9286 loss_val: 0.7164 acc_val: 0.8067 time: 0.0040s\n",
            "Epoch: 0160 loss_train: 0.4649 acc_train: 0.9357 loss_val: 0.7147 acc_val: 0.8067 time: 0.0039s\n",
            "Epoch: 0161 loss_train: 0.4442 acc_train: 0.9143 loss_val: 0.7144 acc_val: 0.8067 time: 0.0039s\n",
            "Epoch: 0162 loss_train: 0.4267 acc_train: 0.9357 loss_val: 0.7137 acc_val: 0.8067 time: 0.0039s\n",
            "Epoch: 0163 loss_train: 0.4292 acc_train: 0.9143 loss_val: 0.7140 acc_val: 0.8133 time: 0.0043s\n",
            "Epoch: 0164 loss_train: 0.4582 acc_train: 0.9429 loss_val: 0.7138 acc_val: 0.8100 time: 0.0039s\n",
            "Epoch: 0165 loss_train: 0.4359 acc_train: 0.9143 loss_val: 0.7119 acc_val: 0.8100 time: 0.0038s\n",
            "Epoch: 0166 loss_train: 0.4369 acc_train: 0.9286 loss_val: 0.7081 acc_val: 0.8100 time: 0.0038s\n",
            "Epoch: 0167 loss_train: 0.4513 acc_train: 0.9357 loss_val: 0.7044 acc_val: 0.8100 time: 0.0046s\n",
            "Epoch: 0168 loss_train: 0.4514 acc_train: 0.9429 loss_val: 0.7015 acc_val: 0.8100 time: 0.0039s\n",
            "Epoch: 0169 loss_train: 0.4390 acc_train: 0.9286 loss_val: 0.6992 acc_val: 0.8133 time: 0.0039s\n",
            "Epoch: 0170 loss_train: 0.4479 acc_train: 0.9357 loss_val: 0.6976 acc_val: 0.8100 time: 0.0037s\n",
            "Epoch: 0171 loss_train: 0.4321 acc_train: 0.9143 loss_val: 0.6966 acc_val: 0.8100 time: 0.0040s\n",
            "Epoch: 0172 loss_train: 0.4094 acc_train: 0.9429 loss_val: 0.6960 acc_val: 0.8133 time: 0.0038s\n",
            "Epoch: 0173 loss_train: 0.4569 acc_train: 0.9143 loss_val: 0.6968 acc_val: 0.8200 time: 0.0040s\n",
            "Epoch: 0174 loss_train: 0.4208 acc_train: 0.9286 loss_val: 0.6981 acc_val: 0.8167 time: 0.0041s\n",
            "Epoch: 0175 loss_train: 0.4343 acc_train: 0.9214 loss_val: 0.7010 acc_val: 0.8100 time: 0.0039s\n",
            "Epoch: 0176 loss_train: 0.4162 acc_train: 0.9429 loss_val: 0.7036 acc_val: 0.8100 time: 0.0039s\n",
            "Epoch: 0177 loss_train: 0.3721 acc_train: 0.9571 loss_val: 0.7040 acc_val: 0.8033 time: 0.0040s\n",
            "Epoch: 0178 loss_train: 0.3917 acc_train: 0.9357 loss_val: 0.7020 acc_val: 0.8000 time: 0.0039s\n",
            "Epoch: 0179 loss_train: 0.4391 acc_train: 0.9071 loss_val: 0.6984 acc_val: 0.8033 time: 0.0041s\n",
            "Epoch: 0180 loss_train: 0.3918 acc_train: 0.9500 loss_val: 0.6944 acc_val: 0.8033 time: 0.0041s\n",
            "Epoch: 0181 loss_train: 0.3902 acc_train: 0.9429 loss_val: 0.6912 acc_val: 0.8067 time: 0.0039s\n",
            "Epoch: 0182 loss_train: 0.4100 acc_train: 0.9357 loss_val: 0.6882 acc_val: 0.8200 time: 0.0038s\n",
            "Epoch: 0183 loss_train: 0.3734 acc_train: 0.9643 loss_val: 0.6857 acc_val: 0.8200 time: 0.0040s\n",
            "Epoch: 0184 loss_train: 0.4136 acc_train: 0.9429 loss_val: 0.6841 acc_val: 0.8200 time: 0.0041s\n",
            "Epoch: 0185 loss_train: 0.4373 acc_train: 0.9286 loss_val: 0.6834 acc_val: 0.8167 time: 0.0038s\n",
            "Epoch: 0186 loss_train: 0.3777 acc_train: 0.9571 loss_val: 0.6840 acc_val: 0.8133 time: 0.0040s\n",
            "Epoch: 0187 loss_train: 0.4402 acc_train: 0.9286 loss_val: 0.6852 acc_val: 0.8100 time: 0.0038s\n",
            "Epoch: 0188 loss_train: 0.4318 acc_train: 0.9357 loss_val: 0.6877 acc_val: 0.8067 time: 0.0038s\n",
            "Epoch: 0189 loss_train: 0.4408 acc_train: 0.9286 loss_val: 0.6900 acc_val: 0.8100 time: 0.0039s\n",
            "Epoch: 0190 loss_train: 0.3918 acc_train: 0.9571 loss_val: 0.6896 acc_val: 0.8033 time: 0.0038s\n",
            "Epoch: 0191 loss_train: 0.4246 acc_train: 0.9500 loss_val: 0.6877 acc_val: 0.8067 time: 0.0042s\n",
            "Epoch: 0192 loss_train: 0.4006 acc_train: 0.9429 loss_val: 0.6855 acc_val: 0.8100 time: 0.0040s\n",
            "Epoch: 0193 loss_train: 0.4178 acc_train: 0.9571 loss_val: 0.6837 acc_val: 0.8100 time: 0.0038s\n",
            "Epoch: 0194 loss_train: 0.4016 acc_train: 0.9357 loss_val: 0.6819 acc_val: 0.8100 time: 0.0040s\n",
            "Epoch: 0195 loss_train: 0.3745 acc_train: 0.9643 loss_val: 0.6805 acc_val: 0.8133 time: 0.0048s\n",
            "Epoch: 0196 loss_train: 0.4001 acc_train: 0.9429 loss_val: 0.6805 acc_val: 0.8100 time: 0.0048s\n",
            "Epoch: 0197 loss_train: 0.4090 acc_train: 0.9286 loss_val: 0.6799 acc_val: 0.8067 time: 0.0042s\n",
            "Epoch: 0198 loss_train: 0.3679 acc_train: 0.9500 loss_val: 0.6781 acc_val: 0.8067 time: 0.0040s\n",
            "Epoch: 0199 loss_train: 0.3972 acc_train: 0.9357 loss_val: 0.6765 acc_val: 0.8067 time: 0.0039s\n",
            "Epoch: 0200 loss_train: 0.4165 acc_train: 0.9357 loss_val: 0.6758 acc_val: 0.8100 time: 0.0038s\n",
            "Optimization Finished!\n",
            "Total time elapsed: 0.9003s\n",
            "Test set results: loss= 0.7072 accuracy= 0.8390\n"
          ],
          "name": "stdout"
        }
      ]
    },
    {
      "cell_type": "code",
      "metadata": {
        "id": "9a8WRNtl5aIp"
      },
      "source": [
        ""
      ],
      "execution_count": null,
      "outputs": []
    }
  ]
}